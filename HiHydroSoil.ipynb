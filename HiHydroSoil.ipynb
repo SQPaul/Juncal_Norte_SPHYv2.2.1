{
 "cells": [
  {
   "cell_type": "markdown",
   "id": "375a1349-4a7c-4916-884f-be225c9d4744",
   "metadata": {},
   "source": [
    "# HiHydroSoil to SPHY\n",
    "## Juncal Norte - august, 2022\n",
    "#### Paul Sandoval Quilodrán - https://github.com/SQPaul\n",
    "#### Run in QGIS"
   ]
  },
  {
   "cell_type": "markdown",
   "id": "07227933-b0ee-4317-b8f3-59df569a8032",
   "metadata": {},
   "source": [
    "### Import packages"
   ]
  },
  {
   "cell_type": "code",
   "execution_count": 1,
   "id": "ad90e5c0-b1eb-4d68-9d53-d16743748e06",
   "metadata": {},
   "outputs": [],
   "source": [
    "import glob\n",
    "import rasterio\n",
    "import numpy as np\n",
    "from matplotlib import pyplot\n",
    "from rasterio.plot import show"
   ]
  },
  {
   "cell_type": "markdown",
   "id": "56eea8a7-ff3a-4692-8a8a-a21296eef53b",
   "metadata": {
    "tags": []
   },
   "source": [
    "## Selecting useful data"
   ]
  },
  {
   "cell_type": "code",
   "execution_count": null,
   "id": "ecc95795-d063-4133-87e8-7a4cec27a331",
   "metadata": {},
   "outputs": [],
   "source": [
    "hydrosoil = glob.glob(\"/media/phi/SANDOVAL/Juncal_norte/SOIL_PROPERTIES/*.tif\") #r\"/media/phi/SANDOVAL/LAST PAUL/VI año/Memoria de título/Modelación/Soil_properties#/*.tif\" \n",
    "\n",
    "for i in hydrosoil:\n",
    "    name = i[49:-8]\n",
    "    #print(name)\n",
    "    if name == \"WCpF2_M_250m_TOPSOIL\":\n",
    "        R_FC = i\n",
    "    elif name == \"WCsat_M_250m_TOPSOIL\":\n",
    "        R_SC = i\n",
    "    elif name == \"WCpF42_M_250m_TOPSOIL\":\n",
    "        R_PWP = i\n",
    "    elif name == \"WCpF3_M_250m_TOPSOIL\":\n",
    "        R_WP = i\n",
    "    elif name == \"Ksat_M_250m_TOPSOIL\":\n",
    "        R_KSAT = i\n",
    "    elif name == \"WCpF2_M_250m_SUBSOIL\":\n",
    "        S_FC = i\n",
    "    elif name == \"WCsat_M_250m_SUBSOIL\":\n",
    "        S_SC = i\n",
    "    elif name == \"Ksat_M_250m_SUBSOIL\":\n",
    "        S_KSAT = i\n",
    "        \n",
    "hydrosoil_sel = [R_FC,R_SC,R_PWP,R_WP,R_KSAT,S_FC,S_SC,S_KSAT] "
   ]
  },
  {
   "cell_type": "markdown",
   "id": "6b546164-38f5-4a63-bd38-bba470bd7197",
   "metadata": {},
   "source": [
    "## Resampling HiHydroSoil \n",
    "### Change crs, resolution and extent\n",
    "#### Run in QGIS\n"
   ]
  },
  {
   "cell_type": "code",
   "execution_count": null,
   "id": "b7bc228b-b76d-4c1d-a91f-ddb718828e95",
   "metadata": {},
   "outputs": [],
   "source": [
    "for i in hydrosoil_sel:\n",
    "    output = i[:-4]+\"_mod.tif\"\n",
    "    processing.run(\"gdal:warpreproject\", \n",
    "               {'INPUT':str(i),\n",
    "                'SOURCE_CRS':None,\n",
    "                'TARGET_CRS':QgsCoordinateReferenceSystem('EPSG:32719'),\n",
    "                'RESAMPLING':0,'NODATA':None,\n",
    "                'TARGET_RESOLUTION':500,\n",
    "                'OPTIONS':'',\n",
    "                'DATA_TYPE':0,\n",
    "                'TARGET_EXTENT':'380681.000000000,413181.000000000,6339419.000000000,6381419.000000000 [EPSG:32719]',\n",
    "                'TARGET_EXTENT_CRS':None,\n",
    "                'MULTITHREADING':False,\n",
    "                'EXTRA':'',\n",
    "                'OUTPUT':str(output)})"
   ]
  },
  {
   "cell_type": "markdown",
   "id": "0cd4a386-cdd6-4930-b503-1c00d4bf9219",
   "metadata": {},
   "source": [
    "## Multiply the rasters by 0.0001 and write it in PCRaster format"
   ]
  },
  {
   "cell_type": "code",
   "execution_count": 2,
   "id": "5f0abfaf-8abf-4a3c-908c-95b8b9bddaa9",
   "metadata": {},
   "outputs": [],
   "source": [
    "hydrosoil = glob.glob(\"/media/phi/SANDOVAL/Juncal_norte/SOIL_PROPERTIES/*mod.tif\") #r\"/media/phi/SANDOVAL/LAST PAUL/VI año/Memoria de título/Modelación/Soil_properties#/*.tif\" \n",
    "\n",
    "for i in hydrosoil:\n",
    "    name = i[49:-12]\n",
    "    #print(name)\n",
    "    if name == \"WCpF2_M_250m_TOPSOIL\":\n",
    "        R_FC = i\n",
    "    elif name == \"WCsat_M_250m_TOPSOIL\":\n",
    "        R_SC = i\n",
    "    elif name == \"WCpF42_M_250m_TOPSOIL\":\n",
    "        R_PWP = i\n",
    "    elif name == \"WCpF3_M_250m_TOPSOIL\":\n",
    "        R_WP = i\n",
    "    elif name == \"Ksat_M_250m_TOPSOIL\":\n",
    "        R_KSAT = i\n",
    "    elif name == \"WCpF2_M_250m_SUBSOIL\":\n",
    "        S_FC = i\n",
    "    elif name == \"WCsat_M_250m_SUBSOIL\":\n",
    "        S_SC = i\n",
    "    elif name == \"Ksat_M_250m_SUBSOIL\":\n",
    "        S_KSAT = i\n",
    "        \n",
    "hydrosoil_sel = [R_FC,R_SC,R_PWP,R_WP,R_KSAT,S_FC,S_SC,S_KSAT] "
   ]
  },
  {
   "cell_type": "code",
   "execution_count": 3,
   "id": "98722643-09d6-4c72-b688-5e5c67454922",
   "metadata": {
    "tags": []
   },
   "outputs": [],
   "source": [
    "hydrosoil_names = [\"R_FC\",\"R_SC\",\"R_PWP\",\"R_WP\",\"R_KSAT\",\"S_FC\",\"S_SC\",\"S_KSAT\"]\n",
    "\n",
    "for i in range(len(hydrosoil_names)):\n",
    "    output = \"/media/phi/SANDOVAL/Juncal_norte/SOIL_PROPERTIES/\"+hydrosoil_names[i]+\".tif\"\n",
    "    raster = rasterio.open(hydrosoil_sel[i])\n",
    "    raster_array = raster.read(1)*0.0001\n",
    "    new_raster = rasterio.open(\n",
    "        str(output),\"w\",\n",
    "        driver = \"PCRaster\",\n",
    "        pcraster_valuescale = \"VS_SCALAR\",\n",
    "        height = raster.shape[0],\n",
    "        width = raster.shape[1],\n",
    "        count = 1,\n",
    "        nodata = raster.nodata,\n",
    "        dtype = np.float32,\n",
    "        crs = 32719,\n",
    "        transform = raster.transform)\n",
    "    new_raster.write(raster_array,1)\n",
    "    new_raster.close()"
   ]
  }
 ],
 "metadata": {
  "kernelspec": {
   "display_name": "Python 3 (ipykernel)",
   "language": "python",
   "name": "python3"
  },
  "language_info": {
   "codemirror_mode": {
    "name": "ipython",
    "version": 3
   },
   "file_extension": ".py",
   "mimetype": "text/x-python",
   "name": "python",
   "nbconvert_exporter": "python",
   "pygments_lexer": "ipython3",
   "version": "3.9.7"
  }
 },
 "nbformat": 4,
 "nbformat_minor": 5
}

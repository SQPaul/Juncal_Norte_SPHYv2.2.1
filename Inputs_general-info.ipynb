{
 "cells": [
  {
   "cell_type": "markdown",
   "id": "609177f3-4939-4b7e-be0f-d551b0b6c069",
   "metadata": {
    "tags": []
   },
   "source": [
    "# General information \n",
    "## Juncal Norte - august, 2022\n",
    "#### Paul Sandoval Quilodrán - https://github.com/SQPaul"
   ]
  },
  {
   "cell_type": "markdown",
   "id": "c74dc0c1-7578-455d-8549-b27e26a280b6",
   "metadata": {},
   "source": [
    "### Import packages"
   ]
  },
  {
   "cell_type": "code",
   "execution_count": 1,
   "id": "7d4ccc4f-a6ef-423c-8d3a-895d76a427a4",
   "metadata": {},
   "outputs": [],
   "source": [
    "#Import packages\n",
    "from osgeo import gdal, gdalconst\n",
    "from pcraster import * \n",
    "from os import chdir, getcwd"
   ]
  },
  {
   "cell_type": "markdown",
   "id": "0c602e0b-1544-4897-96a7-ec90ec4c8e6b",
   "metadata": {},
   "source": [
    "### changing directory & define functions"
   ]
  },
  {
   "cell_type": "code",
   "execution_count": 2,
   "id": "9e0c4f15-6a27-409c-b933-1821bbad047f",
   "metadata": {},
   "outputs": [],
   "source": [
    "#CATCHMENT DELINEATION\n",
    "\n",
    "#Change directory\n",
    "f_dir = \"/home/phi/Desktop/Projects/Juncal_norte/GIS\"\n",
    "chdir(f_dir)\n",
    "\n",
    "#Create function to convert from tif to map\n",
    "def ConvertToPCRaster (src_fname,dst_fname,ot,VS):\n",
    "    src_ds = gdal.Open(src_fname)\n",
    "    dst_ds = gdal.Translate(dst_fname, src_ds, format=\"PCRaster\", outputType=ot, metadataOptions=VS)\n",
    "    src_ds = None\n",
    "    dst_ds = None"
   ]
  },
  {
   "cell_type": "markdown",
   "id": "469cfeed-8491-4fec-997c-a51bb3ba7ee4",
   "metadata": {},
   "source": [
    "### DEM"
   ]
  },
  {
   "cell_type": "code",
   "execution_count": null,
   "id": "6155b8a3-5a86-4318-93a4-f4a3e7c16445",
   "metadata": {},
   "outputs": [],
   "source": [
    "#1 Convert dem and fill it\n",
    "\n",
    "ConvertToPCRaster(\"dem500f.tif\",\"dem500f.map\",gdalconst.GDT_Float32,\"VS_SCALAR\")\n",
    "dem = readmap(\"dem500f.map\")\n",
    "#demf = lddcreatedem(dem,1e31,1e31,1e31,1e31)\n",
    "#report(demf,\"dem500f.map\")\n",
    "aguila(dem)"
   ]
  },
  {
   "cell_type": "markdown",
   "id": "205a2dcc-c22b-40d9-b168-03fd98f1cfc7",
   "metadata": {},
   "source": [
    "### LDD"
   ]
  },
  {
   "cell_type": "code",
   "execution_count": null,
   "id": "b94a7d19-dcc7-4c19-9b33-0c1e513eeb3d",
   "metadata": {},
   "outputs": [],
   "source": [
    "#2 Create local drain direction and river network\n",
    "ldd = lddcreate(dem,1e31,1e31,1e31,1e31)\n",
    "report(ldd,\"ldd500.map\")\n",
    "accuflux = accuflux(ldd,1)\n",
    "report(accuflux,\"accuflux500.map\")\n",
    "aguila(accuflux)"
   ]
  },
  {
   "cell_type": "code",
   "execution_count": null,
   "id": "915a113a-b62d-4137-a4ae-6ad7f00d0aa3",
   "metadata": {},
   "outputs": [],
   "source": [
    "#3 Analyze strahler order NO LO HICE!!\n",
    "#strahler = streamorder(\"ldd.map\")\n",
    "#aguila(strahler)\n",
    "#report(strahler,\"strahler.map\")\n",
    "\n",
    "##Repair ldd\n",
    "#lddrep = lddrepair(ldd)\n",
    "#report(lddrep,\"lddrep.map\")"
   ]
  },
  {
   "cell_type": "markdown",
   "id": "a209357c-dc7b-4dd9-b335-bedd5459e809",
   "metadata": {},
   "source": [
    "### Outflows"
   ]
  },
  {
   "cell_type": "code",
   "execution_count": null,
   "id": "e63803d5-370b-4d77-93e4-8874df061ffa",
   "metadata": {},
   "outputs": [],
   "source": [
    "#4 Define outputs\n",
    "#4.1 In this step check if the outputs basins are over the accuflux (river network)\n",
    "#4.2 Convert outputs to raster (points with attr=ID), (ID natural numbers)\n",
    "#4.3 Convert to pcraster and nominal.map\n",
    "ConvertToPCRaster(\"stations500.tif\",\"stations500.map\",gdalconst.GDT_Float32,\"VS_SCALAR\")\n",
    "outflow = nominal(\"stations500.map\")\n",
    "report(outflow,\"outflow500.map\")\n",
    "aguila(outflow)"
   ]
  },
  {
   "cell_type": "markdown",
   "id": "f4de9d08-f8f1-437c-8614-75f69c20ef3c",
   "metadata": {},
   "source": [
    "### Catchment & subcatchment"
   ]
  },
  {
   "cell_type": "code",
   "execution_count": null,
   "id": "4d6baa77-0207-40a1-866c-ca66e2a9c889",
   "metadata": {},
   "outputs": [],
   "source": [
    "#5 Delineate basin and subbasins\n",
    "catchment = catchment(\"ldd500.map\",\"outflow500.map\")\n",
    "report(catchment,\"catchment500.map\")\n",
    "subcatchment = subcatchment(\"ldd500.map\",\"outflow500.map\")\n",
    "report(subcatchment,\"subcatchment500.map\")\n",
    "aguila(catchment)"
   ]
  },
  {
   "cell_type": "markdown",
   "id": "0fd65492-7270-456b-96db-117528309c7d",
   "metadata": {
    "tags": []
   },
   "source": [
    "### Slope"
   ]
  },
  {
   "cell_type": "code",
   "execution_count": null,
   "id": "e4949e28-bc9e-4b8d-8612-5a04a946ca88",
   "metadata": {},
   "outputs": [],
   "source": [
    "#6 Slope\n",
    "slope = slope(\"dem500f.map\")\n",
    "report(slope, \"slope500.map\")\n",
    "aguila(slope)"
   ]
  },
  {
   "cell_type": "markdown",
   "id": "3cc54d23-f2b1-473c-b785-d772bc8632b7",
   "metadata": {},
   "source": [
    "### Landcover"
   ]
  },
  {
   "cell_type": "code",
   "execution_count": 3,
   "id": "1c04c088-7c20-4e35-a379-22bf47f785c4",
   "metadata": {},
   "outputs": [],
   "source": [
    "ConvertToPCRaster(\"landcover.tif\",\"landcover.map\",gdalconst.GDT_Float32,\"VS_SCALAR\")\n",
    "landcover = nominal(\"landcover.map\")\n",
    "report(landcover,\"landcover500.map\")\n",
    "aguila(landcover)"
   ]
  },
  {
   "cell_type": "markdown",
   "id": "20dfdb51-b2b0-430b-95f5-abf5822379c1",
   "metadata": {},
   "source": [
    "### Latitude"
   ]
  },
  {
   "cell_type": "code",
   "execution_count": 4,
   "id": "0726449f-e9d8-49de-9b44-16127c6a643b",
   "metadata": {},
   "outputs": [],
   "source": [
    "ConvertToPCRaster(\"latitude.tif\",\"latitude500.map\",gdalconst.GDT_Float32,\"VS_SCALAR\")"
   ]
  },
  {
   "cell_type": "markdown",
   "id": "c0935155-a306-470f-811a-5389a207a10d",
   "metadata": {},
   "source": [
    "### Clone"
   ]
  },
  {
   "cell_type": "code",
   "execution_count": 5,
   "id": "4a30b4c5-f5f0-4372-946e-679d2b686832",
   "metadata": {},
   "outputs": [],
   "source": [
    "clone = boolean(\"dem500f.map\")\n",
    "report(clone,\"clone500.map\")\n",
    "aguila(\"clone500.map\")"
   ]
  },
  {
   "cell_type": "code",
   "execution_count": 7,
   "id": "62d43828-1537-416c-9775-be303266ec6c",
   "metadata": {},
   "outputs": [],
   "source": [
    "aguila(\"dem.map\")"
   ]
  },
  {
   "cell_type": "code",
   "execution_count": null,
   "id": "3cf71a93-1f28-455c-864d-774b466d17cc",
   "metadata": {},
   "outputs": [],
   "source": []
  }
 ],
 "metadata": {
  "kernelspec": {
   "display_name": "Python 3 (ipykernel)",
   "language": "python",
   "name": "python3"
  },
  "language_info": {
   "codemirror_mode": {
    "name": "ipython",
    "version": 3
   },
   "file_extension": ".py",
   "mimetype": "text/x-python",
   "name": "python",
   "nbconvert_exporter": "python",
   "pygments_lexer": "ipython3",
   "version": "3.9.7"
  }
 },
 "nbformat": 4,
 "nbformat_minor": 5
}

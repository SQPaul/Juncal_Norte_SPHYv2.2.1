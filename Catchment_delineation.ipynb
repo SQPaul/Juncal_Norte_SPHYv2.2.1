{
 "cells": [
  {
   "cell_type": "markdown",
   "id": "f15d8224-711a-44cf-ab3e-399249417899",
   "metadata": {},
   "source": [
    "# Catchment delineation\n",
    "## Juncal Norte - august, 2022\n",
    "#### Paul Sandoval Quilodrán - https://github.com/SQPaul"
   ]
  },
  {
   "cell_type": "code",
   "execution_count": 1,
   "id": "d7e10b7e-9a5c-4b4f-aea6-8434ee4ee860",
   "metadata": {},
   "outputs": [],
   "source": [
    "#Import packages\n",
    "from osgeo import gdal, gdalconst\n",
    "from pcraster import * \n",
    "from os import chdir, getcwd"
   ]
  },
  {
   "cell_type": "markdown",
   "id": "0a6a5233-0efd-422b-ba6e-9da17ed5cbed",
   "metadata": {},
   "source": [
    "### Change directory and define function"
   ]
  },
  {
   "cell_type": "code",
   "execution_count": 2,
   "id": "0cced9f7-cdc2-4bbb-a45e-de2b14801c5b",
   "metadata": {},
   "outputs": [],
   "source": [
    "#Change directory\n",
    "f_dir = \"/home/phi/Desktop/Projects/Juncal_norte/GIS\"\n",
    "chdir(f_dir)\n",
    "\n",
    "#Create function to convert from tif to map\n",
    "def ConvertToPCRaster (src_fname,dst_fname,ot,VS):\n",
    "    src_ds = gdal.Open(src_fname)\n",
    "    dst_ds = gdal.Translate(dst_fname, src_ds, format=\"PCRaster\", outputType=ot, metadataOptions=VS)\n",
    "    src_ds = None\n",
    "    dst_ds = None"
   ]
  },
  {
   "cell_type": "markdown",
   "id": "597e09c9-965e-4771-9b99-7c8746e90d39",
   "metadata": {},
   "source": [
    "### Fill dem"
   ]
  },
  {
   "cell_type": "code",
   "execution_count": 3,
   "id": "3defbeab-998f-4c8f-895e-51986566d9ba",
   "metadata": {},
   "outputs": [],
   "source": [
    "#1 Convert dem and fill it\n",
    "ConvertToPCRaster(\"dem28.tif\",\"dem.map\",gdalconst.GDT_Float32,\"VS_SCALAR\")\n",
    "dem = readmap(\"dem.map\")\n",
    "demf = lddcreatedem(dem,1e31,1e31,1e31,1e31)\n",
    "report(demf,\"demf.map\")\n",
    "aguila(demf)"
   ]
  },
  {
   "cell_type": "markdown",
   "id": "bc54cdb0-9362-4c30-8272-5f2bebf9a08b",
   "metadata": {},
   "source": [
    "### Local Drain Direction (ldd) & Accuflux"
   ]
  },
  {
   "cell_type": "code",
   "execution_count": 4,
   "id": "1cfba7c5-b1d8-443e-9fa3-5cb8e4144889",
   "metadata": {},
   "outputs": [],
   "source": [
    "#2 Create local drain direction and river network\n",
    "ldd = lddcreate(demf,1e31,1e31,1e31,1e31)\n",
    "report(ldd,\"ldd.map\")\n",
    "accuflux = accuflux(ldd,1)\n",
    "report(accuflux,\"accuflux.map\")\n",
    "aguila(accuflux)"
   ]
  },
  {
   "cell_type": "markdown",
   "id": "d98f7e5a-c090-49b7-94df-af51545be942",
   "metadata": {},
   "source": [
    "### Strahler & reparir ldd"
   ]
  },
  {
   "cell_type": "code",
   "execution_count": 3,
   "id": "545b62d4-cb40-47b7-aaaa-5bca97390870",
   "metadata": {},
   "outputs": [],
   "source": [
    "#3 Analyze strahler order NO LO HICE!!\n",
    "strahler = streamorder(\"ldd.map\")\n",
    "aguila(strahler)\n",
    "report(strahler,\"strahler.map\")\n",
    "\n",
    "##Repair ldd\n",
    "#lddrep = lddrepair(ldd)\n",
    "#report(lddrep,\"lddrep.map\")"
   ]
  },
  {
   "cell_type": "markdown",
   "id": "898fdfeb-fe75-47da-a8e2-3d1873ea83aa",
   "metadata": {},
   "source": [
    "### Outflows"
   ]
  },
  {
   "cell_type": "code",
   "execution_count": 3,
   "id": "9b056c5b-e0ee-4030-98f6-e76a6a6abfdc",
   "metadata": {},
   "outputs": [],
   "source": [
    "#4 Define outputs\n",
    "#4.1 In this step check if the outputs basins are over the accuflux (river network)\n",
    "#4.2 Convert outputs to raster (points with attr=ID), (ID natural numbers)\n",
    "#4.3 Convert to pcraster and nominal.map\n",
    "ConvertToPCRaster(\"stations.tif\",\"stations.map\",gdalconst.GDT_Float32,\"VS_SCALAR\")\n",
    "outflow = nominal(\"stations.map\")\n",
    "report(outflow,\"outflow.map\")"
   ]
  },
  {
   "cell_type": "markdown",
   "id": "5b230ca8-d014-46ba-9a77-b4e6cf4aca07",
   "metadata": {},
   "source": [
    "### Catchment & subcatchments"
   ]
  },
  {
   "cell_type": "code",
   "execution_count": null,
   "id": "ecb2c950-dd80-4336-a786-d6bfed5b2ed0",
   "metadata": {},
   "outputs": [],
   "source": [
    "#5 Delineate basin and subbasins\n",
    "catchment = catchment(\"ldd.map\",\"outflow.map\")\n",
    "report(catchment,\"catchment.map\")\n",
    "subcatchment = subcatchment(\"ldd.map\",\"outflow.map\")\n",
    "report(subcatchment,\"subcatchment.map\")\n",
    "aguila(catchment)"
   ]
  }
 ],
 "metadata": {
  "kernelspec": {
   "display_name": "Python 3 (ipykernel)",
   "language": "python",
   "name": "python3"
  },
  "language_info": {
   "codemirror_mode": {
    "name": "ipython",
    "version": 3
   },
   "file_extension": ".py",
   "mimetype": "text/x-python",
   "name": "python",
   "nbconvert_exporter": "python",
   "pygments_lexer": "ipython3",
   "version": "3.10.5"
  }
 },
 "nbformat": 4,
 "nbformat_minor": 5
}

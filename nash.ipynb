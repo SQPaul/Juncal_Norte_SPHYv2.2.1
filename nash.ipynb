{
 "cells": [
  {
   "cell_type": "code",
   "execution_count": 1,
   "id": "b44c7e29-c668-49d5-87ae-25e8876d4ffa",
   "metadata": {},
   "outputs": [],
   "source": [
    "import pandas as pd\n",
    "import numpy as np\n",
    "import openpyxl\n",
    "import re\n",
    "import matplotlib.pyplot as plt\n",
    "import datetime\n",
    "import hydroeval as he"
   ]
  },
  {
   "cell_type": "code",
   "execution_count": 2,
   "id": "c197ff00-a20e-4955-aa20-db008e3c3f7f",
   "metadata": {},
   "outputs": [
    {
     "data": {
      "text/html": [
       "<div>\n",
       "<style scoped>\n",
       "    .dataframe tbody tr th:only-of-type {\n",
       "        vertical-align: middle;\n",
       "    }\n",
       "\n",
       "    .dataframe tbody tr th {\n",
       "        vertical-align: top;\n",
       "    }\n",
       "\n",
       "    .dataframe thead th {\n",
       "        text-align: right;\n",
       "    }\n",
       "</style>\n",
       "<table border=\"1\" class=\"dataframe\">\n",
       "  <thead>\n",
       "    <tr style=\"text-align: right;\">\n",
       "      <th></th>\n",
       "      <th>Unnamed: 0</th>\n",
       "      <th>observado</th>\n",
       "      <th>validación</th>\n",
       "    </tr>\n",
       "  </thead>\n",
       "  <tbody>\n",
       "    <tr>\n",
       "      <th>0</th>\n",
       "      <td>2011-01-01</td>\n",
       "      <td>6.740</td>\n",
       "      <td>5.314130</td>\n",
       "    </tr>\n",
       "    <tr>\n",
       "      <th>1</th>\n",
       "      <td>2011-01-02</td>\n",
       "      <td>7.000</td>\n",
       "      <td>5.307570</td>\n",
       "    </tr>\n",
       "    <tr>\n",
       "      <th>2</th>\n",
       "      <td>2011-01-03</td>\n",
       "      <td>6.430</td>\n",
       "      <td>5.593850</td>\n",
       "    </tr>\n",
       "    <tr>\n",
       "      <th>3</th>\n",
       "      <td>2011-01-04</td>\n",
       "      <td>5.610</td>\n",
       "      <td>5.428040</td>\n",
       "    </tr>\n",
       "    <tr>\n",
       "      <th>4</th>\n",
       "      <td>2011-01-05</td>\n",
       "      <td>5.060</td>\n",
       "      <td>5.669170</td>\n",
       "    </tr>\n",
       "    <tr>\n",
       "      <th>...</th>\n",
       "      <td>...</td>\n",
       "      <td>...</td>\n",
       "      <td>...</td>\n",
       "    </tr>\n",
       "    <tr>\n",
       "      <th>3403</th>\n",
       "      <td>2020-04-26</td>\n",
       "      <td>2.159</td>\n",
       "      <td>0.586334</td>\n",
       "    </tr>\n",
       "    <tr>\n",
       "      <th>3404</th>\n",
       "      <td>2020-04-27</td>\n",
       "      <td>2.073</td>\n",
       "      <td>0.567258</td>\n",
       "    </tr>\n",
       "    <tr>\n",
       "      <th>3405</th>\n",
       "      <td>2020-04-28</td>\n",
       "      <td>2.013</td>\n",
       "      <td>0.548597</td>\n",
       "    </tr>\n",
       "    <tr>\n",
       "      <th>3406</th>\n",
       "      <td>2020-04-29</td>\n",
       "      <td>1.925</td>\n",
       "      <td>0.533204</td>\n",
       "    </tr>\n",
       "    <tr>\n",
       "      <th>3407</th>\n",
       "      <td>2020-04-30</td>\n",
       "      <td>NaN</td>\n",
       "      <td>0.517780</td>\n",
       "    </tr>\n",
       "  </tbody>\n",
       "</table>\n",
       "<p>3408 rows × 3 columns</p>\n",
       "</div>"
      ],
      "text/plain": [
       "     Unnamed: 0  observado  validación\n",
       "0    2011-01-01      6.740    5.314130\n",
       "1    2011-01-02      7.000    5.307570\n",
       "2    2011-01-03      6.430    5.593850\n",
       "3    2011-01-04      5.610    5.428040\n",
       "4    2011-01-05      5.060    5.669170\n",
       "...         ...        ...         ...\n",
       "3403 2020-04-26      2.159    0.586334\n",
       "3404 2020-04-27      2.073    0.567258\n",
       "3405 2020-04-28      2.013    0.548597\n",
       "3406 2020-04-29      1.925    0.533204\n",
       "3407 2020-04-30        NaN    0.517780\n",
       "\n",
       "[3408 rows x 3 columns]"
      ]
     },
     "execution_count": 2,
     "metadata": {},
     "output_type": "execute_result"
    }
   ],
   "source": [
    "path = r\"C:\\Users\\pauls\\Desktop\\Proyectos\\Juncal_norte\\Calibration\\cali-vali\\Fase_final.xlsx\"\n",
    "data = pd.read_excel(path,sheet_name=\"1\",engine=\"openpyxl\")\n",
    "data"
   ]
  },
  {
   "cell_type": "code",
   "execution_count": 5,
   "id": "f18d837c-df9e-432f-9b6d-c44998e04223",
   "metadata": {},
   "outputs": [
    {
     "data": {
      "text/html": [
       "<div>\n",
       "<style scoped>\n",
       "    .dataframe tbody tr th:only-of-type {\n",
       "        vertical-align: middle;\n",
       "    }\n",
       "\n",
       "    .dataframe tbody tr th {\n",
       "        vertical-align: top;\n",
       "    }\n",
       "\n",
       "    .dataframe thead th {\n",
       "        text-align: right;\n",
       "    }\n",
       "</style>\n",
       "<table border=\"1\" class=\"dataframe\">\n",
       "  <thead>\n",
       "    <tr style=\"text-align: right;\">\n",
       "      <th></th>\n",
       "      <th>0</th>\n",
       "    </tr>\n",
       "  </thead>\n",
       "  <tbody>\n",
       "    <tr>\n",
       "      <th>NASH</th>\n",
       "      <td>0.123056</td>\n",
       "    </tr>\n",
       "  </tbody>\n",
       "</table>\n",
       "</div>"
      ],
      "text/plain": [
       "             0\n",
       "NASH  0.123056"
      ]
     },
     "execution_count": 5,
     "metadata": {},
     "output_type": "execute_result"
    }
   ],
   "source": [
    "obs = data.iloc[:,1]\n",
    "sim = data.iloc[:,2]\n",
    "\n",
    "nash = pd.DataFrame(he.evaluator(he.nse, sim, obs),index=[\"NASH\"])\n",
    "nash"
   ]
  },
  {
   "cell_type": "code",
   "execution_count": null,
   "id": "941d9705-ca10-4e24-b1da-39b60af8694f",
   "metadata": {},
   "outputs": [],
   "source": []
  }
 ],
 "metadata": {
  "kernelspec": {
   "display_name": "Python 3 (ipykernel)",
   "language": "python",
   "name": "python3"
  },
  "language_info": {
   "codemirror_mode": {
    "name": "ipython",
    "version": 3
   },
   "file_extension": ".py",
   "mimetype": "text/x-python",
   "name": "python",
   "nbconvert_exporter": "python",
   "pygments_lexer": "ipython3",
   "version": "3.9.7"
  }
 },
 "nbformat": 4,
 "nbformat_minor": 5
}
